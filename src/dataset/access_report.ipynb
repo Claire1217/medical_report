{
 "cells": [
  {
   "cell_type": "code",
   "execution_count": 5,
   "metadata": {},
   "outputs": [],
   "source": [
    "data_dir = \"/Users/claire/Desktop/Stuff-/codes/dissertation/data/mimic_cxr\"\n",
    "fpath = data_dir + \"/annotation.json\"\n"
   ]
  },
  {
   "cell_type": "code",
   "execution_count": 6,
   "metadata": {},
   "outputs": [],
   "source": [
    "# load json file\n",
    "import json\n",
    "data = json.load(open(fpath))\n",
    "\n"
   ]
  },
  {
   "cell_type": "code",
   "execution_count": 10,
   "metadata": {},
   "outputs": [
    {
     "data": {
      "text/plain": [
       "{'id': '02aa804e-bde0afdd-112c0b34-7bc16630-4e384014',\n",
       " 'study_id': 50414267,\n",
       " 'subject_id': 10000032,\n",
       " 'report': 'There is no focal consolidation, pleural effusion or pneumothorax.  Bilateral\\n nodular opacities that most likely represent nipple shadows. The\\n cardiomediastinal silhouette is normal.  Clips project over the left lung,\\n potentially within the breast. The imaged upper abdomen is unremarkable.\\n Chronic deformity of the posterior left sixth and seventh ribs are noted.',\n",
       " 'image_path': ['p10/p10000032/s50414267/02aa804e-bde0afdd-112c0b34-7bc16630-4e384014.jpg'],\n",
       " 'split': 'train'}"
      ]
     },
     "execution_count": 10,
     "metadata": {},
     "output_type": "execute_result"
    }
   ],
   "source": [
    "data['train'][0]"
   ]
  },
  {
   "cell_type": "code",
   "execution_count": null,
   "metadata": {},
   "outputs": [],
   "source": []
  }
 ],
 "metadata": {
  "kernelspec": {
   "display_name": "Python 3.8.9 64-bit",
   "language": "python",
   "name": "python3"
  },
  "language_info": {
   "codemirror_mode": {
    "name": "ipython",
    "version": 3
   },
   "file_extension": ".py",
   "mimetype": "text/x-python",
   "name": "python",
   "nbconvert_exporter": "python",
   "pygments_lexer": "ipython3",
   "version": "3.8.9"
  },
  "orig_nbformat": 4,
  "vscode": {
   "interpreter": {
    "hash": "31f2aee4e71d21fbe5cf8b01ff0e069b9275f58929596ceb00d14d90e3e16cd6"
   }
  }
 },
 "nbformat": 4,
 "nbformat_minor": 2
}
