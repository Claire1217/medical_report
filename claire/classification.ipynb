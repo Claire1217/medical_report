{
 "cells": [
  {
   "cell_type": "code",
   "execution_count": 1,
   "metadata": {},
   "outputs": [],
   "source": [
    "import sys\n",
    "import cv2\n",
    "import torch\n",
    "import torch.nn.functional as F\n",
    "import pandas as pd\n",
    "sys.path.append(\"/Users/claire/Desktop/Stuff-/codes/dissertation/cxr/rgrg/src/full_model\")\n",
    "sys.path.append(\"/Users/claire/Desktop/Stuff-/codes/dissertation/cxr/rgrg/src\")\n",
    "# import sys\n",
    "sys.path.append(\"/Users/claire/Desktop/Stuff-/codes/dissertation/cxr/rgrg/\")\n",
    "\n",
    "from full_model.train_full_model import *\n",
    "from full_model.generate_reports_for_images import *"
   ]
  },
  {
   "cell_type": "code",
   "execution_count": null,
   "metadata": {},
   "outputs": [],
   "source": [
    "# Base line multi-label classification model\n",
    "\n"
   ]
  }
 ],
 "metadata": {
  "kernelspec": {
   "display_name": "torch-gpu",
   "language": "python",
   "name": "python3"
  },
  "language_info": {
   "codemirror_mode": {
    "name": "ipython",
    "version": 3
   },
   "file_extension": ".py",
   "mimetype": "text/x-python",
   "name": "python",
   "nbconvert_exporter": "python",
   "pygments_lexer": "ipython3",
   "version": "3.8.13"
  },
  "orig_nbformat": 4
 },
 "nbformat": 4,
 "nbformat_minor": 2
}
